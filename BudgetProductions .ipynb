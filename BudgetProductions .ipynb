{
 "cells": [
  {
   "cell_type": "markdown",
   "id": "a3987502",
   "metadata": {},
   "source": [
    "# BudgetProduction — Exploratory Data Analysis (EDA) and Visualization Using Python"
   ]
  },
  {
   "cell_type": "markdown",
   "id": "55d9b586",
   "metadata": {},
   "source": [
    "I will be using exploratory data analysis techniques alongside visulization methods on python to provide BudgetProductions insight from a large collection of data from historical movies. I will display all of my findings using visual aids to easily understand the analysis.\n",
    "\n",
    "\n",
    "# Sections\n",
    "#####     0) Cleaning the data\n",
    "#####     1) Does the title year have an impact on the gross earnings?\n",
    "#####     2) Does the duration of the movie have an impact on gross earnings?\n",
    "2b) If duration time has an impact on gross earnings then shorter movies perform worse\n",
    "#####     3) Does the IMDB rating correlate with the gross earnings?\n",
    "#####     4) What should be the movie genre?\n",
    "2b) A hypothesis test on If the movie has a horror genre then it will obtain a better profit than a drama genre\n",
    "#####     5) Conclusion\n"
   ]
  },
  {
   "cell_type": "code",
   "execution_count": 1,
   "id": "3fb03270",
   "metadata": {
    "scrolled": false
   },
   "outputs": [
    {
     "data": {
      "text/html": [
       "<div>\n",
       "<style scoped>\n",
       "    .dataframe tbody tr th:only-of-type {\n",
       "        vertical-align: middle;\n",
       "    }\n",
       "\n",
       "    .dataframe tbody tr th {\n",
       "        vertical-align: top;\n",
       "    }\n",
       "\n",
       "    .dataframe thead th {\n",
       "        text-align: right;\n",
       "    }\n",
       "</style>\n",
       "<table border=\"1\" class=\"dataframe\">\n",
       "  <thead>\n",
       "    <tr style=\"text-align: right;\">\n",
       "      <th></th>\n",
       "      <th>color</th>\n",
       "      <th>director_name</th>\n",
       "      <th>num_critic_for_reviews</th>\n",
       "      <th>duration</th>\n",
       "      <th>director_facebook_likes</th>\n",
       "      <th>actor_3_facebook_likes</th>\n",
       "      <th>actor_2_name</th>\n",
       "      <th>actor_1_facebook_likes</th>\n",
       "      <th>gross</th>\n",
       "      <th>genres</th>\n",
       "      <th>...</th>\n",
       "      <th>num_user_for_reviews</th>\n",
       "      <th>language</th>\n",
       "      <th>country</th>\n",
       "      <th>content_rating</th>\n",
       "      <th>budget</th>\n",
       "      <th>title_year</th>\n",
       "      <th>actor_2_facebook_likes</th>\n",
       "      <th>imdb_score</th>\n",
       "      <th>aspect_ratio</th>\n",
       "      <th>movie_facebook_likes</th>\n",
       "    </tr>\n",
       "  </thead>\n",
       "  <tbody>\n",
       "    <tr>\n",
       "      <th>0</th>\n",
       "      <td>Color</td>\n",
       "      <td>James Cameron</td>\n",
       "      <td>723.0</td>\n",
       "      <td>178.0</td>\n",
       "      <td>0.0</td>\n",
       "      <td>855.0</td>\n",
       "      <td>Joel David Moore</td>\n",
       "      <td>1000.0</td>\n",
       "      <td>760505847.0</td>\n",
       "      <td>Action|Adventure|Fantasy|Sci-Fi</td>\n",
       "      <td>...</td>\n",
       "      <td>3054.0</td>\n",
       "      <td>English</td>\n",
       "      <td>USA</td>\n",
       "      <td>PG-13</td>\n",
       "      <td>237000000.0</td>\n",
       "      <td>2009.0</td>\n",
       "      <td>936.0</td>\n",
       "      <td>7.9</td>\n",
       "      <td>1.78</td>\n",
       "      <td>33000</td>\n",
       "    </tr>\n",
       "    <tr>\n",
       "      <th>1</th>\n",
       "      <td>Color</td>\n",
       "      <td>Gore Verbinski</td>\n",
       "      <td>302.0</td>\n",
       "      <td>169.0</td>\n",
       "      <td>563.0</td>\n",
       "      <td>1000.0</td>\n",
       "      <td>Orlando Bloom</td>\n",
       "      <td>40000.0</td>\n",
       "      <td>309404152.0</td>\n",
       "      <td>Action|Adventure|Fantasy</td>\n",
       "      <td>...</td>\n",
       "      <td>1238.0</td>\n",
       "      <td>English</td>\n",
       "      <td>USA</td>\n",
       "      <td>PG-13</td>\n",
       "      <td>300000000.0</td>\n",
       "      <td>2007.0</td>\n",
       "      <td>5000.0</td>\n",
       "      <td>7.1</td>\n",
       "      <td>2.35</td>\n",
       "      <td>0</td>\n",
       "    </tr>\n",
       "    <tr>\n",
       "      <th>2</th>\n",
       "      <td>Color</td>\n",
       "      <td>Sam Mendes</td>\n",
       "      <td>602.0</td>\n",
       "      <td>148.0</td>\n",
       "      <td>0.0</td>\n",
       "      <td>161.0</td>\n",
       "      <td>Rory Kinnear</td>\n",
       "      <td>11000.0</td>\n",
       "      <td>200074175.0</td>\n",
       "      <td>Action|Adventure|Thriller</td>\n",
       "      <td>...</td>\n",
       "      <td>994.0</td>\n",
       "      <td>English</td>\n",
       "      <td>UK</td>\n",
       "      <td>PG-13</td>\n",
       "      <td>245000000.0</td>\n",
       "      <td>2015.0</td>\n",
       "      <td>393.0</td>\n",
       "      <td>6.8</td>\n",
       "      <td>2.35</td>\n",
       "      <td>85000</td>\n",
       "    </tr>\n",
       "    <tr>\n",
       "      <th>3</th>\n",
       "      <td>Color</td>\n",
       "      <td>Christopher Nolan</td>\n",
       "      <td>813.0</td>\n",
       "      <td>164.0</td>\n",
       "      <td>22000.0</td>\n",
       "      <td>23000.0</td>\n",
       "      <td>Christian Bale</td>\n",
       "      <td>27000.0</td>\n",
       "      <td>448130642.0</td>\n",
       "      <td>Action|Thriller</td>\n",
       "      <td>...</td>\n",
       "      <td>2701.0</td>\n",
       "      <td>English</td>\n",
       "      <td>USA</td>\n",
       "      <td>PG-13</td>\n",
       "      <td>250000000.0</td>\n",
       "      <td>2012.0</td>\n",
       "      <td>23000.0</td>\n",
       "      <td>8.5</td>\n",
       "      <td>2.35</td>\n",
       "      <td>164000</td>\n",
       "    </tr>\n",
       "    <tr>\n",
       "      <th>4</th>\n",
       "      <td>NaN</td>\n",
       "      <td>Doug Walker</td>\n",
       "      <td>NaN</td>\n",
       "      <td>NaN</td>\n",
       "      <td>131.0</td>\n",
       "      <td>NaN</td>\n",
       "      <td>Rob Walker</td>\n",
       "      <td>131.0</td>\n",
       "      <td>NaN</td>\n",
       "      <td>Documentary</td>\n",
       "      <td>...</td>\n",
       "      <td>NaN</td>\n",
       "      <td>NaN</td>\n",
       "      <td>NaN</td>\n",
       "      <td>NaN</td>\n",
       "      <td>NaN</td>\n",
       "      <td>NaN</td>\n",
       "      <td>12.0</td>\n",
       "      <td>7.1</td>\n",
       "      <td>NaN</td>\n",
       "      <td>0</td>\n",
       "    </tr>\n",
       "  </tbody>\n",
       "</table>\n",
       "<p>5 rows × 28 columns</p>\n",
       "</div>"
      ],
      "text/plain": [
       "   color      director_name  num_critic_for_reviews  duration  \\\n",
       "0  Color      James Cameron                   723.0     178.0   \n",
       "1  Color     Gore Verbinski                   302.0     169.0   \n",
       "2  Color         Sam Mendes                   602.0     148.0   \n",
       "3  Color  Christopher Nolan                   813.0     164.0   \n",
       "4    NaN        Doug Walker                     NaN       NaN   \n",
       "\n",
       "   director_facebook_likes  actor_3_facebook_likes      actor_2_name  \\\n",
       "0                      0.0                   855.0  Joel David Moore   \n",
       "1                    563.0                  1000.0     Orlando Bloom   \n",
       "2                      0.0                   161.0      Rory Kinnear   \n",
       "3                  22000.0                 23000.0    Christian Bale   \n",
       "4                    131.0                     NaN        Rob Walker   \n",
       "\n",
       "   actor_1_facebook_likes        gross                           genres  ...  \\\n",
       "0                  1000.0  760505847.0  Action|Adventure|Fantasy|Sci-Fi  ...   \n",
       "1                 40000.0  309404152.0         Action|Adventure|Fantasy  ...   \n",
       "2                 11000.0  200074175.0        Action|Adventure|Thriller  ...   \n",
       "3                 27000.0  448130642.0                  Action|Thriller  ...   \n",
       "4                   131.0          NaN                      Documentary  ...   \n",
       "\n",
       "  num_user_for_reviews language  country  content_rating       budget  \\\n",
       "0               3054.0  English      USA           PG-13  237000000.0   \n",
       "1               1238.0  English      USA           PG-13  300000000.0   \n",
       "2                994.0  English       UK           PG-13  245000000.0   \n",
       "3               2701.0  English      USA           PG-13  250000000.0   \n",
       "4                  NaN      NaN      NaN             NaN          NaN   \n",
       "\n",
       "   title_year actor_2_facebook_likes imdb_score  aspect_ratio  \\\n",
       "0      2009.0                  936.0        7.9          1.78   \n",
       "1      2007.0                 5000.0        7.1          2.35   \n",
       "2      2015.0                  393.0        6.8          2.35   \n",
       "3      2012.0                23000.0        8.5          2.35   \n",
       "4         NaN                   12.0        7.1           NaN   \n",
       "\n",
       "  movie_facebook_likes  \n",
       "0                33000  \n",
       "1                    0  \n",
       "2                85000  \n",
       "3               164000  \n",
       "4                    0  \n",
       "\n",
       "[5 rows x 28 columns]"
      ]
     },
     "metadata": {},
     "output_type": "display_data"
    },
    {
     "data": {
      "text/html": [
       "<div>\n",
       "<style scoped>\n",
       "    .dataframe tbody tr th:only-of-type {\n",
       "        vertical-align: middle;\n",
       "    }\n",
       "\n",
       "    .dataframe tbody tr th {\n",
       "        vertical-align: top;\n",
       "    }\n",
       "\n",
       "    .dataframe thead th {\n",
       "        text-align: right;\n",
       "    }\n",
       "</style>\n",
       "<table border=\"1\" class=\"dataframe\">\n",
       "  <thead>\n",
       "    <tr style=\"text-align: right;\">\n",
       "      <th></th>\n",
       "      <th>color</th>\n",
       "      <th>director_name</th>\n",
       "      <th>num_critic_for_reviews</th>\n",
       "      <th>duration</th>\n",
       "      <th>director_facebook_likes</th>\n",
       "      <th>actor_3_facebook_likes</th>\n",
       "      <th>actor_2_name</th>\n",
       "      <th>actor_1_facebook_likes</th>\n",
       "      <th>gross</th>\n",
       "      <th>genres</th>\n",
       "      <th>...</th>\n",
       "      <th>num_user_for_reviews</th>\n",
       "      <th>language</th>\n",
       "      <th>country</th>\n",
       "      <th>content_rating</th>\n",
       "      <th>budget</th>\n",
       "      <th>title_year</th>\n",
       "      <th>actor_2_facebook_likes</th>\n",
       "      <th>imdb_score</th>\n",
       "      <th>aspect_ratio</th>\n",
       "      <th>movie_facebook_likes</th>\n",
       "    </tr>\n",
       "  </thead>\n",
       "  <tbody>\n",
       "    <tr>\n",
       "      <th>5041</th>\n",
       "      <td>Color</td>\n",
       "      <td>Daniel Hsia</td>\n",
       "      <td>14.0</td>\n",
       "      <td>100.0</td>\n",
       "      <td>0.0</td>\n",
       "      <td>489.0</td>\n",
       "      <td>Daniel Henney</td>\n",
       "      <td>946.0</td>\n",
       "      <td>10443.0</td>\n",
       "      <td>Comedy|Drama|Romance</td>\n",
       "      <td>...</td>\n",
       "      <td>9.0</td>\n",
       "      <td>English</td>\n",
       "      <td>USA</td>\n",
       "      <td>PG-13</td>\n",
       "      <td>NaN</td>\n",
       "      <td>2012.0</td>\n",
       "      <td>719.0</td>\n",
       "      <td>6.3</td>\n",
       "      <td>2.35</td>\n",
       "      <td>660</td>\n",
       "    </tr>\n",
       "    <tr>\n",
       "      <th>5042</th>\n",
       "      <td>Color</td>\n",
       "      <td>Jon Gunn</td>\n",
       "      <td>43.0</td>\n",
       "      <td>90.0</td>\n",
       "      <td>16.0</td>\n",
       "      <td>16.0</td>\n",
       "      <td>Brian Herzlinger</td>\n",
       "      <td>86.0</td>\n",
       "      <td>85222.0</td>\n",
       "      <td>Documentary</td>\n",
       "      <td>...</td>\n",
       "      <td>84.0</td>\n",
       "      <td>English</td>\n",
       "      <td>USA</td>\n",
       "      <td>PG</td>\n",
       "      <td>1100.0</td>\n",
       "      <td>2004.0</td>\n",
       "      <td>23.0</td>\n",
       "      <td>6.6</td>\n",
       "      <td>1.85</td>\n",
       "      <td>456</td>\n",
       "    </tr>\n",
       "  </tbody>\n",
       "</table>\n",
       "<p>2 rows × 28 columns</p>\n",
       "</div>"
      ],
      "text/plain": [
       "      color director_name  num_critic_for_reviews  duration  \\\n",
       "5041  Color   Daniel Hsia                    14.0     100.0   \n",
       "5042  Color      Jon Gunn                    43.0      90.0   \n",
       "\n",
       "      director_facebook_likes  actor_3_facebook_likes      actor_2_name  \\\n",
       "5041                      0.0                   489.0     Daniel Henney   \n",
       "5042                     16.0                    16.0  Brian Herzlinger   \n",
       "\n",
       "      actor_1_facebook_likes    gross                genres  ...  \\\n",
       "5041                   946.0  10443.0  Comedy|Drama|Romance  ...   \n",
       "5042                    86.0  85222.0           Documentary  ...   \n",
       "\n",
       "     num_user_for_reviews language  country  content_rating  budget  \\\n",
       "5041                  9.0  English      USA           PG-13     NaN   \n",
       "5042                 84.0  English      USA              PG  1100.0   \n",
       "\n",
       "      title_year actor_2_facebook_likes imdb_score  aspect_ratio  \\\n",
       "5041      2012.0                  719.0        6.3          2.35   \n",
       "5042      2004.0                   23.0        6.6          1.85   \n",
       "\n",
       "     movie_facebook_likes  \n",
       "5041                  660  \n",
       "5042                  456  \n",
       "\n",
       "[2 rows x 28 columns]"
      ]
     },
     "metadata": {},
     "output_type": "display_data"
    }
   ],
   "source": [
    "# Importing the large list of movie data from a CSV (Comma Separated Variable) to a file type readable for python analysis\n",
    "myfile='movie_metadata.csv'\n",
    "#standard imports for when working with pandas\n",
    "#Initialisation of the data set and python libraries used\n",
    "import numpy as np\n",
    "%matplotlib inline\n",
    "from matplotlib import pyplot as plt\n",
    "import pandas as pd\n",
    "import scipy as scipy\n",
    "from scipy import stats\n",
    "from scipy.stats import t\n",
    "import statistics\n",
    "from matplotlib import pyplot as plt\n",
    "plt.style.use('ggplot') #added this line of code to give style to my graph\n",
    "\n",
    "myfile = 'movie_metadata.csv'\n",
    "\n",
    "#read the movie metadata file into a dataframe in pandas.\n",
    "movies_df = pd.read_csv(myfile,index_col=None)\n",
    "\n",
    "#use display function to show a beautiful version of the data\n",
    "display(movies_df.head(5)) #first 2 movies\n",
    "display(movies_df.tail(2)) #last 2 movies\n"
   ]
  },
  {
   "cell_type": "markdown",
   "id": "12df1615",
   "metadata": {},
   "source": [
    "## 0) Cleaning the data\n"
   ]
  },
  {
   "cell_type": "code",
   "execution_count": 2,
   "id": "ec0382b1",
   "metadata": {},
   "outputs": [],
   "source": [
    "#Using function method which is callable during any time of the report\n",
    "def make_float_array(anylist):\n",
    "    newlist=[]\n",
    "    for item in anylist:\n",
    "        try:\n",
    "#will append every consecutive item in the dictionary into an np array\n",
    "            newlist.append(float(item))\n",
    "        except:\n",
    "            pass\n",
    "    return np.array(newlist)  "
   ]
  },
  {
   "cell_type": "code",
   "execution_count": 3,
   "id": "dfb15d77",
   "metadata": {},
   "outputs": [],
   "source": [
    "def corr_checker(dataframe,compare1,compare2):\n",
    "    correlation_df = dataframe[[compare1,compare2]].corr()\n",
    "    correlation = correlation_df.iloc[0][compare2]\n",
    "    if correlation < -0.5 and correlation >= -0.8:\n",
    "        print(\"for the correlation score {:.5f} we have moderate weak correlation\".format(correlation))\n",
    "    elif correlation <-0.8:\n",
    "        print(\"for the correlation score {:.5f} we have strong weak correlation\".format(correlation))\n",
    "    elif correlation > -0.5 and correlation <= -0.3:\n",
    "        print(\"for the correlation score {:.5f} we have low weak correlation\".format(correlation))\n",
    "    elif correlation >= 0.8:\n",
    "        print(\"for the correlation score {:.5f} we have strong positive correlation\".format(correlation))\n",
    "    elif correlation >= 0.5 and correlation < 0.8:\n",
    "        print(\"for the correlation score {:.5f} we have moderate positive correlation\".format(correlation))\n",
    "    elif correlation >= 0.3 and correlation < 0.5:\n",
    "        print(\"for the correlation score {:.5f} we have weak positive correlation\".format(correlation))\n",
    "    else:\n",
    "        print(\"With a correlation of {:.5f} we can conclude that there is no correlation between {} and {}\".format(correlation,compare1,compare2))"
   ]
  },
  {
   "cell_type": "code",
   "execution_count": 4,
   "id": "17aae053",
   "metadata": {},
   "outputs": [],
   "source": [
    "movies_df.drop([\"num_critic_for_reviews\",\"country\",\"language\",\"num_user_for_reviews\",\"director_facebook_likes\",\"actor_3_facebook_likes\",\"actor_2_name\",\"actor_3_name\",\"movie_imdb_link\",\"actor_2_facebook_likes\"], inplace=True,axis=1)\n",
    "movies_clean_df = movies_df\n"
   ]
  },
  {
   "cell_type": "code",
   "execution_count": 5,
   "id": "40be5e53",
   "metadata": {},
   "outputs": [],
   "source": [
    "movies_clean_df.drop_duplicates(inplace=True)"
   ]
  },
  {
   "cell_type": "code",
   "execution_count": 6,
   "id": "3fa289d7",
   "metadata": {},
   "outputs": [
    {
     "data": {
      "text/plain": [
       "color                          2\n",
       "director_name                  3\n",
       "duration                       2\n",
       "actor_1_facebook_likes         4\n",
       "gross                          0\n",
       "genres                         0\n",
       "actor_1_name                   4\n",
       "movie_title                    0\n",
       "num_voted_users                0\n",
       "cast_total_facebook_likes      0\n",
       "facenumber_in_poster           7\n",
       "plot_keywords                 40\n",
       "content_rating                64\n",
       "budget                       267\n",
       "title_year                     3\n",
       "imdb_score                     0\n",
       "aspect_ratio                 104\n",
       "movie_facebook_likes           0\n",
       "dtype: int64"
      ]
     },
     "execution_count": 6,
     "metadata": {},
     "output_type": "execute_result"
    }
   ],
   "source": [
    "movies_clean_df = movies_clean_df[movies_clean_df[\"gross\"].notna()]\n",
    "#Cleaning the dataframe so that the movies we have do not have a null component in the \"gross\"-because a return is what we analyse\n",
    "movies_clean_df.isnull().sum()"
   ]
  },
  {
   "cell_type": "markdown",
   "id": "02cab2ed",
   "metadata": {},
   "source": [
    "Above shows the empty inputvalues, these need to be removed to make the data analysis more legible such tha this does not mess with the final outcome of the report. The DataFrame was cleaned to allow easier readability. Removed irrelevant columns including : \"num_critic_for_reviews\",\"country\",\"language\",\"num_user_for_reviews\",\"director_facebook_likes\",\"actor_3_facebook_likes\",\"actor_2_name\",\"actor_3_name\",\"movie_imdb_link\",\"actor_2_facebook_likes\".\n",
    "\n",
    "I believe that these will not tell us anything nor allow me to make any viable recomendations on suitability for the movie."
   ]
  },
  {
   "cell_type": "markdown",
   "id": "cf0ae734",
   "metadata": {},
   "source": [
    "Immediately, from the specification we are only interested in movies that have a maximum budget of £1.5 million. From here, I have analysed if the year that the movie came out had an effect on the gross earnings."
   ]
  },
  {
   "cell_type": "code",
   "execution_count": 7,
   "id": "9ef4b3a7",
   "metadata": {},
   "outputs": [],
   "source": [
    "budget_movies_df = movies_clean_df[movies_clean_df[\"budget\"] < 1500000]\n",
    "\n",
    "# Only interested in the movies that have a budget < 1.5 million"
   ]
  },
  {
   "cell_type": "code",
   "execution_count": 8,
   "id": "50ebf6ad",
   "metadata": {},
   "outputs": [
    {
     "data": {
      "text/html": [
       "<div>\n",
       "<style scoped>\n",
       "    .dataframe tbody tr th:only-of-type {\n",
       "        vertical-align: middle;\n",
       "    }\n",
       "\n",
       "    .dataframe tbody tr th {\n",
       "        vertical-align: top;\n",
       "    }\n",
       "\n",
       "    .dataframe thead th {\n",
       "        text-align: right;\n",
       "    }\n",
       "</style>\n",
       "<table border=\"1\" class=\"dataframe\">\n",
       "  <thead>\n",
       "    <tr style=\"text-align: right;\">\n",
       "      <th></th>\n",
       "      <th>color</th>\n",
       "      <th>director_name</th>\n",
       "      <th>duration</th>\n",
       "      <th>actor_1_facebook_likes</th>\n",
       "      <th>gross</th>\n",
       "      <th>genres</th>\n",
       "      <th>actor_1_name</th>\n",
       "      <th>movie_title</th>\n",
       "      <th>num_voted_users</th>\n",
       "      <th>cast_total_facebook_likes</th>\n",
       "      <th>facenumber_in_poster</th>\n",
       "      <th>plot_keywords</th>\n",
       "      <th>content_rating</th>\n",
       "      <th>budget</th>\n",
       "      <th>title_year</th>\n",
       "      <th>imdb_score</th>\n",
       "      <th>aspect_ratio</th>\n",
       "      <th>movie_facebook_likes</th>\n",
       "      <th>profit</th>\n",
       "    </tr>\n",
       "  </thead>\n",
       "  <tbody>\n",
       "    <tr>\n",
       "      <th>1281</th>\n",
       "      <td>Color</td>\n",
       "      <td>Martin Scorsese</td>\n",
       "      <td>112.0</td>\n",
       "      <td>22000.0</td>\n",
       "      <td>32645.0</td>\n",
       "      <td>Crime|Drama|Romance|Thriller</td>\n",
       "      <td>Robert De Niro</td>\n",
       "      <td>Mean Streets</td>\n",
       "      <td>67797</td>\n",
       "      <td>23737</td>\n",
       "      <td>0.0</td>\n",
       "      <td>bar|catholic guilt|epilepsy|italian american|m...</td>\n",
       "      <td>R</td>\n",
       "      <td>500000.0</td>\n",
       "      <td>1973.0</td>\n",
       "      <td>7.4</td>\n",
       "      <td>1.85</td>\n",
       "      <td>0</td>\n",
       "      <td>-467355.0</td>\n",
       "    </tr>\n",
       "    <tr>\n",
       "      <th>2242</th>\n",
       "      <td>Black and White</td>\n",
       "      <td>Alfred Hitchcock</td>\n",
       "      <td>108.0</td>\n",
       "      <td>606.0</td>\n",
       "      <td>32000000.0</td>\n",
       "      <td>Horror|Mystery|Thriller</td>\n",
       "      <td>Janet Leigh</td>\n",
       "      <td>Psycho</td>\n",
       "      <td>422432</td>\n",
       "      <td>1885</td>\n",
       "      <td>2.0</td>\n",
       "      <td>money|motel|rain|shower|theft</td>\n",
       "      <td>R</td>\n",
       "      <td>806947.0</td>\n",
       "      <td>1960.0</td>\n",
       "      <td>8.5</td>\n",
       "      <td>1.85</td>\n",
       "      <td>18000</td>\n",
       "      <td>31193053.0</td>\n",
       "    </tr>\n",
       "    <tr>\n",
       "      <th>2420</th>\n",
       "      <td>Color</td>\n",
       "      <td>John Carpenter</td>\n",
       "      <td>89.0</td>\n",
       "      <td>2000.0</td>\n",
       "      <td>21378000.0</td>\n",
       "      <td>Fantasy|Horror</td>\n",
       "      <td>Jamie Lee Curtis</td>\n",
       "      <td>The Fog</td>\n",
       "      <td>46492</td>\n",
       "      <td>4877</td>\n",
       "      <td>0.0</td>\n",
       "      <td>california|fog|leper|lighthouse|ship</td>\n",
       "      <td>R</td>\n",
       "      <td>1000000.0</td>\n",
       "      <td>1980.0</td>\n",
       "      <td>6.8</td>\n",
       "      <td>2.35</td>\n",
       "      <td>7000</td>\n",
       "      <td>20378000.0</td>\n",
       "    </tr>\n",
       "    <tr>\n",
       "      <th>2492</th>\n",
       "      <td>Color</td>\n",
       "      <td>John Carpenter</td>\n",
       "      <td>101.0</td>\n",
       "      <td>2000.0</td>\n",
       "      <td>47000000.0</td>\n",
       "      <td>Horror|Thriller</td>\n",
       "      <td>Jamie Lee Curtis</td>\n",
       "      <td>Halloween</td>\n",
       "      <td>157857</td>\n",
       "      <td>4400</td>\n",
       "      <td>0.0</td>\n",
       "      <td>halloween|masked killer|michael myers|slasher|...</td>\n",
       "      <td>R</td>\n",
       "      <td>300000.0</td>\n",
       "      <td>1978.0</td>\n",
       "      <td>7.9</td>\n",
       "      <td>2.35</td>\n",
       "      <td>12000</td>\n",
       "      <td>46700000.0</td>\n",
       "    </tr>\n",
       "    <tr>\n",
       "      <th>3278</th>\n",
       "      <td>Color</td>\n",
       "      <td>Tobe Hooper</td>\n",
       "      <td>88.0</td>\n",
       "      <td>383.0</td>\n",
       "      <td>30859000.0</td>\n",
       "      <td>Horror|Thriller</td>\n",
       "      <td>Gunnar Hansen</td>\n",
       "      <td>The Texas Chain Saw Massacre</td>\n",
       "      <td>96410</td>\n",
       "      <td>1094</td>\n",
       "      <td>0.0</td>\n",
       "      <td>cannibal|chainsaw|hitchhiker|independent film|...</td>\n",
       "      <td>R</td>\n",
       "      <td>83532.0</td>\n",
       "      <td>1974.0</td>\n",
       "      <td>7.5</td>\n",
       "      <td>1.85</td>\n",
       "      <td>0</td>\n",
       "      <td>30775468.0</td>\n",
       "    </tr>\n",
       "    <tr>\n",
       "      <th>...</th>\n",
       "      <td>...</td>\n",
       "      <td>...</td>\n",
       "      <td>...</td>\n",
       "      <td>...</td>\n",
       "      <td>...</td>\n",
       "      <td>...</td>\n",
       "      <td>...</td>\n",
       "      <td>...</td>\n",
       "      <td>...</td>\n",
       "      <td>...</td>\n",
       "      <td>...</td>\n",
       "      <td>...</td>\n",
       "      <td>...</td>\n",
       "      <td>...</td>\n",
       "      <td>...</td>\n",
       "      <td>...</td>\n",
       "      <td>...</td>\n",
       "      <td>...</td>\n",
       "      <td>...</td>\n",
       "    </tr>\n",
       "    <tr>\n",
       "      <th>5033</th>\n",
       "      <td>Color</td>\n",
       "      <td>Shane Carruth</td>\n",
       "      <td>77.0</td>\n",
       "      <td>291.0</td>\n",
       "      <td>424760.0</td>\n",
       "      <td>Drama|Sci-Fi|Thriller</td>\n",
       "      <td>Shane Carruth</td>\n",
       "      <td>Primer</td>\n",
       "      <td>72639</td>\n",
       "      <td>368</td>\n",
       "      <td>0.0</td>\n",
       "      <td>changing the future|independent film|invention...</td>\n",
       "      <td>PG-13</td>\n",
       "      <td>7000.0</td>\n",
       "      <td>2004.0</td>\n",
       "      <td>7.0</td>\n",
       "      <td>1.85</td>\n",
       "      <td>19000</td>\n",
       "      <td>417760.0</td>\n",
       "    </tr>\n",
       "    <tr>\n",
       "      <th>5034</th>\n",
       "      <td>Color</td>\n",
       "      <td>Neill Dela Llana</td>\n",
       "      <td>80.0</td>\n",
       "      <td>0.0</td>\n",
       "      <td>70071.0</td>\n",
       "      <td>Thriller</td>\n",
       "      <td>Ian Gamazon</td>\n",
       "      <td>Cavite</td>\n",
       "      <td>589</td>\n",
       "      <td>0</td>\n",
       "      <td>0.0</td>\n",
       "      <td>jihad|mindanao|philippines|security guard|squa...</td>\n",
       "      <td>Not Rated</td>\n",
       "      <td>7000.0</td>\n",
       "      <td>2005.0</td>\n",
       "      <td>6.3</td>\n",
       "      <td>NaN</td>\n",
       "      <td>74</td>\n",
       "      <td>63071.0</td>\n",
       "    </tr>\n",
       "    <tr>\n",
       "      <th>5035</th>\n",
       "      <td>Color</td>\n",
       "      <td>Robert Rodriguez</td>\n",
       "      <td>81.0</td>\n",
       "      <td>121.0</td>\n",
       "      <td>2040920.0</td>\n",
       "      <td>Action|Crime|Drama|Romance|Thriller</td>\n",
       "      <td>Carlos Gallardo</td>\n",
       "      <td>El Mariachi</td>\n",
       "      <td>52055</td>\n",
       "      <td>147</td>\n",
       "      <td>0.0</td>\n",
       "      <td>assassin|death|guitar|gun|mariachi</td>\n",
       "      <td>R</td>\n",
       "      <td>7000.0</td>\n",
       "      <td>1992.0</td>\n",
       "      <td>6.9</td>\n",
       "      <td>1.37</td>\n",
       "      <td>0</td>\n",
       "      <td>2033920.0</td>\n",
       "    </tr>\n",
       "    <tr>\n",
       "      <th>5037</th>\n",
       "      <td>Color</td>\n",
       "      <td>Edward Burns</td>\n",
       "      <td>95.0</td>\n",
       "      <td>296.0</td>\n",
       "      <td>4584.0</td>\n",
       "      <td>Comedy|Drama</td>\n",
       "      <td>Kerry Bishé</td>\n",
       "      <td>Newlyweds</td>\n",
       "      <td>1338</td>\n",
       "      <td>690</td>\n",
       "      <td>1.0</td>\n",
       "      <td>written and directed by cast member</td>\n",
       "      <td>Not Rated</td>\n",
       "      <td>9000.0</td>\n",
       "      <td>2011.0</td>\n",
       "      <td>6.4</td>\n",
       "      <td>NaN</td>\n",
       "      <td>413</td>\n",
       "      <td>-4416.0</td>\n",
       "    </tr>\n",
       "    <tr>\n",
       "      <th>5042</th>\n",
       "      <td>Color</td>\n",
       "      <td>Jon Gunn</td>\n",
       "      <td>90.0</td>\n",
       "      <td>86.0</td>\n",
       "      <td>85222.0</td>\n",
       "      <td>Documentary</td>\n",
       "      <td>John August</td>\n",
       "      <td>My Date with Drew</td>\n",
       "      <td>4285</td>\n",
       "      <td>163</td>\n",
       "      <td>0.0</td>\n",
       "      <td>actress name in title|crush|date|four word tit...</td>\n",
       "      <td>PG</td>\n",
       "      <td>1100.0</td>\n",
       "      <td>2004.0</td>\n",
       "      <td>6.6</td>\n",
       "      <td>1.85</td>\n",
       "      <td>456</td>\n",
       "      <td>84122.0</td>\n",
       "    </tr>\n",
       "  </tbody>\n",
       "</table>\n",
       "<p>254 rows × 19 columns</p>\n",
       "</div>"
      ],
      "text/plain": [
       "                 color     director_name  duration  actor_1_facebook_likes  \\\n",
       "1281             Color   Martin Scorsese     112.0                 22000.0   \n",
       "2242   Black and White  Alfred Hitchcock     108.0                   606.0   \n",
       "2420             Color    John Carpenter      89.0                  2000.0   \n",
       "2492             Color    John Carpenter     101.0                  2000.0   \n",
       "3278             Color       Tobe Hooper      88.0                   383.0   \n",
       "...                ...               ...       ...                     ...   \n",
       "5033             Color     Shane Carruth      77.0                   291.0   \n",
       "5034             Color  Neill Dela Llana      80.0                     0.0   \n",
       "5035             Color  Robert Rodriguez      81.0                   121.0   \n",
       "5037             Color      Edward Burns      95.0                   296.0   \n",
       "5042             Color          Jon Gunn      90.0                    86.0   \n",
       "\n",
       "           gross                               genres      actor_1_name  \\\n",
       "1281     32645.0         Crime|Drama|Romance|Thriller    Robert De Niro   \n",
       "2242  32000000.0              Horror|Mystery|Thriller       Janet Leigh   \n",
       "2420  21378000.0                       Fantasy|Horror  Jamie Lee Curtis   \n",
       "2492  47000000.0                      Horror|Thriller  Jamie Lee Curtis   \n",
       "3278  30859000.0                      Horror|Thriller     Gunnar Hansen   \n",
       "...          ...                                  ...               ...   \n",
       "5033    424760.0                Drama|Sci-Fi|Thriller     Shane Carruth   \n",
       "5034     70071.0                             Thriller       Ian Gamazon   \n",
       "5035   2040920.0  Action|Crime|Drama|Romance|Thriller   Carlos Gallardo   \n",
       "5037      4584.0                         Comedy|Drama       Kerry Bishé   \n",
       "5042     85222.0                          Documentary       John August   \n",
       "\n",
       "                        movie_title  num_voted_users  \\\n",
       "1281                  Mean Streets             67797   \n",
       "2242                        Psycho            422432   \n",
       "2420                       The Fog             46492   \n",
       "2492                     Halloween            157857   \n",
       "3278  The Texas Chain Saw Massacre             96410   \n",
       "...                             ...              ...   \n",
       "5033                        Primer             72639   \n",
       "5034                        Cavite               589   \n",
       "5035                   El Mariachi             52055   \n",
       "5037                     Newlyweds              1338   \n",
       "5042             My Date with Drew              4285   \n",
       "\n",
       "      cast_total_facebook_likes  facenumber_in_poster  \\\n",
       "1281                      23737                   0.0   \n",
       "2242                       1885                   2.0   \n",
       "2420                       4877                   0.0   \n",
       "2492                       4400                   0.0   \n",
       "3278                       1094                   0.0   \n",
       "...                         ...                   ...   \n",
       "5033                        368                   0.0   \n",
       "5034                          0                   0.0   \n",
       "5035                        147                   0.0   \n",
       "5037                        690                   1.0   \n",
       "5042                        163                   0.0   \n",
       "\n",
       "                                          plot_keywords content_rating  \\\n",
       "1281  bar|catholic guilt|epilepsy|italian american|m...              R   \n",
       "2242                      money|motel|rain|shower|theft              R   \n",
       "2420               california|fog|leper|lighthouse|ship              R   \n",
       "2492  halloween|masked killer|michael myers|slasher|...              R   \n",
       "3278  cannibal|chainsaw|hitchhiker|independent film|...              R   \n",
       "...                                                 ...            ...   \n",
       "5033  changing the future|independent film|invention...          PG-13   \n",
       "5034  jihad|mindanao|philippines|security guard|squa...      Not Rated   \n",
       "5035                 assassin|death|guitar|gun|mariachi              R   \n",
       "5037                written and directed by cast member      Not Rated   \n",
       "5042  actress name in title|crush|date|four word tit...             PG   \n",
       "\n",
       "         budget  title_year  imdb_score  aspect_ratio  movie_facebook_likes  \\\n",
       "1281   500000.0      1973.0         7.4          1.85                     0   \n",
       "2242   806947.0      1960.0         8.5          1.85                 18000   \n",
       "2420  1000000.0      1980.0         6.8          2.35                  7000   \n",
       "2492   300000.0      1978.0         7.9          2.35                 12000   \n",
       "3278    83532.0      1974.0         7.5          1.85                     0   \n",
       "...         ...         ...         ...           ...                   ...   \n",
       "5033     7000.0      2004.0         7.0          1.85                 19000   \n",
       "5034     7000.0      2005.0         6.3           NaN                    74   \n",
       "5035     7000.0      1992.0         6.9          1.37                     0   \n",
       "5037     9000.0      2011.0         6.4           NaN                   413   \n",
       "5042     1100.0      2004.0         6.6          1.85                   456   \n",
       "\n",
       "          profit  \n",
       "1281   -467355.0  \n",
       "2242  31193053.0  \n",
       "2420  20378000.0  \n",
       "2492  46700000.0  \n",
       "3278  30775468.0  \n",
       "...          ...  \n",
       "5033    417760.0  \n",
       "5034     63071.0  \n",
       "5035   2033920.0  \n",
       "5037     -4416.0  \n",
       "5042     84122.0  \n",
       "\n",
       "[254 rows x 19 columns]"
      ]
     },
     "metadata": {},
     "output_type": "display_data"
    }
   ],
   "source": [
    "budget_movies_df =budget_movies_df.assign(profit = budget_movies_df.gross - budget_movies_df.budget)\n",
    "#creates a new column called profit which is the respective difference of gross and budget\n",
    "display(budget_movies_df)"
   ]
  },
  {
   "cell_type": "markdown",
   "id": "000c3ff0",
   "metadata": {},
   "source": [
    "## Section 1 : Does the title year have an impact on the gross earnings?"
   ]
  },
  {
   "cell_type": "code",
   "execution_count": 9,
   "id": "01b6acfc",
   "metadata": {},
   "outputs": [
    {
     "data": {
      "text/plain": [
       "gross         0\n",
       "title_year    0\n",
       "dtype: int64"
      ]
     },
     "execution_count": 9,
     "metadata": {},
     "output_type": "execute_result"
    }
   ],
   "source": [
    "year_earnings_df = budget_movies_df[[\"gross\",\"title_year\"]]\n",
    "#For instances where the title year OR gross earnings do not have a value we drop the entire row\n",
    "year_earnings_df = year_earnings_df.dropna()\n",
    "year_earnings_df.isnull().sum() \n",
    "#below we see there are 0 for both columns and we can explore further"
   ]
  },
  {
   "cell_type": "markdown",
   "id": "95f22448",
   "metadata": {},
   "source": [
    "Here to answer the question \"Is there a correlation between Title Year and Gross earnings?\" When analyzing the distribution of the two requirements in the data, there seems to be no correlation between the two. In the cell below I have used my defined function for correlation which outputs a Pearson correlation coefficient."
   ]
  },
  {
   "cell_type": "code",
   "execution_count": 10,
   "id": "f80901ff",
   "metadata": {
    "scrolled": false
   },
   "outputs": [
    {
     "name": "stdout",
     "output_type": "stream",
     "text": [
      "With a correlation of -0.19464 we can conclude that there is no correlation between title_year and gross\n"
     ]
    }
   ],
   "source": [
    "corr_checker(year_earnings_df,\"title_year\",\"gross\")"
   ]
  },
  {
   "cell_type": "code",
   "execution_count": 11,
   "id": "4056ef2f",
   "metadata": {
    "scrolled": true
   },
   "outputs": [
    {
     "data": {
      "image/png": "[encoded data removed]",
      "text/plain": [
       "<Figure size 864x288 with 1 Axes>"
      ]
     },
     "metadata": {},
     "output_type": "display_data"
    }
   ],
   "source": [
    "#here I group the columns of my DataFrame by title year with the gross column and the corresponding mean for each year\n",
    "year_earnings_df = year_earnings_df.groupby(\"title_year\")[\"gross\"].mean().reset_index() #reset the index otherwise unplottable\n",
    "fig,ax1=plt.subplots(figsize=(12,4)) # matplotlib function to create scatter plot - here i make it more horizontal\n",
    "#Below I add a \"grid\" this is because the plot is wide. \n",
    "#With the added grid it makes it easier to read off the values near the end of the plot.\n",
    "ax1.yaxis.grid(True,linestyle=\"-\")\n",
    "plt.scatter(year_earnings_df[\"title_year\"],year_earnings_df[\"gross\"])\n",
    "plt.xlabel(\"Title Year\")\n",
    "plt.ylabel(\"Gross Earnings in GBP\")\n",
    "plt.ticklabel_format(style='plain')#code removes the scientific notation in the y axis\n",
    "plt.ylim(0,15000000)\n",
    "plt.xlim(2000,2020)\n",
    "plt.xticks(np.arange(2000,2020,1),rotation = 45) #rotation here to make the xaxis easier to read\n",
    "plt.title(\"The average movie earning for the years 21st century\",fontweight = \"bold\")\n",
    "# below is a builtin feature of numpy to plot the linear regression line\n",
    "m, b = np.polyfit(year_earnings_df[\"title_year\"], year_earnings_df[\"gross\"],1)\n",
    "plt.plot(year_earnings_df[\"title_year\"], m*year_earnings_df[\"title_year\"]+b,\"r\")\n",
    "#the legend code creates a \"key\" \n",
    "plt.legend([\"Line of linear regression\",\"Average yearly gross\"])\n",
    "plt.show()"
   ]
  },
  {
   "cell_type": "markdown",
   "id": "fe2f2a21",
   "metadata": {},
   "source": [
    "Given that historically movies tend to have a slightly worse gross than the preceding years, there is **no need to worry** as utilising the information found further in this report I am able to give specific recommendations to outperform your last comedy-action-thriller movie."
   ]
  },
  {
   "cell_type": "markdown",
   "id": "6c0e5ec7",
   "metadata": {},
   "source": [
    "## Section 2) Does the duration of the movie have an impact on gross earnings?"
   ]
  },
  {
   "cell_type": "code",
   "execution_count": 12,
   "id": "9bfa8270",
   "metadata": {},
   "outputs": [
    {
     "name": "stdout",
     "output_type": "stream",
     "text": [
      "Exploration of the movies run time compared to the gross earnings requires some data filtering. This includes all no input values for the duration and the earnings. I complete this task in the next few lines. Here the budget data frame is used again to comply with the specification.\n"
     ]
    }
   ],
   "source": [
    "print(\"Exploration of the movies run time compared to the gross earnings requires some data filtering. This includes all no input values for the duration and the earnings. I complete this task in the next few lines. Here the budget data frame is used again to comply with the specification.\")"
   ]
  },
  {
   "cell_type": "code",
   "execution_count": 13,
   "id": "be3ac8e3",
   "metadata": {},
   "outputs": [
    {
     "data": {
      "text/plain": [
       "duration    0\n",
       "gross       0\n",
       "dtype: int64"
      ]
     },
     "execution_count": 13,
     "metadata": {},
     "output_type": "execute_result"
    }
   ],
   "source": [
    "duration_earnings_df = budget_movies_df[[\"duration\",\"gross\"]]\n",
    "duration_earnings_df = duration_earnings_df.dropna()\n",
    "duration_earnings_df.isnull().sum() # checking that all empty cells are removed -> output proves this."
   ]
  },
  {
   "cell_type": "code",
   "execution_count": 14,
   "id": "4ddb5f31",
   "metadata": {},
   "outputs": [
    {
     "name": "stdout",
     "output_type": "stream",
     "text": [
      "The amount of movies : 254\n",
      "Minimum movie duration : 34.0\n",
      "Maximum movie duration : 215.0\n",
      "Mean movie duration : 95.03937007874016\n",
      "Standard deviation of movie duration : 15.85677076356567\n",
      "Median movie duration : 92.0\n"
     ]
    }
   ],
   "source": [
    "print(\"The amount of movies :\",len(duration_earnings_df[\"duration\"]))\n",
    "print(\"Minimum movie duration :\",duration_earnings_df[\"duration\"].min())\n",
    "print(\"Maximum movie duration :\",duration_earnings_df[\"duration\"].max())\n",
    "print(\"Mean movie duration :\",duration_earnings_df[\"duration\"].mean())\n",
    "print(\"Standard deviation of movie duration :\",duration_earnings_df[\"duration\"].std())\n",
    "print(\"Median movie duration :\",duration_earnings_df[\"duration\"].median())"
   ]
  },
  {
   "cell_type": "code",
   "execution_count": 15,
   "id": "73defa24",
   "metadata": {
    "scrolled": true
   },
   "outputs": [
    {
     "data": {
      "text/html": [
       "<div>\n",
       "<style scoped>\n",
       "    .dataframe tbody tr th:only-of-type {\n",
       "        vertical-align: middle;\n",
       "    }\n",
       "\n",
       "    .dataframe tbody tr th {\n",
       "        vertical-align: top;\n",
       "    }\n",
       "\n",
       "    .dataframe thead th {\n",
       "        text-align: right;\n",
       "    }\n",
       "</style>\n",
       "<table border=\"1\" class=\"dataframe\">\n",
       "  <thead>\n",
       "    <tr style=\"text-align: right;\">\n",
       "      <th></th>\n",
       "      <th>duration</th>\n",
       "      <th>gross</th>\n",
       "    </tr>\n",
       "  </thead>\n",
       "  <tbody>\n",
       "    <tr>\n",
       "      <th>0</th>\n",
       "      <td>34.0</td>\n",
       "      <td>333658.0</td>\n",
       "    </tr>\n",
       "    <tr>\n",
       "      <th>1</th>\n",
       "      <td>53.0</td>\n",
       "      <td>274661.0</td>\n",
       "    </tr>\n",
       "    <tr>\n",
       "      <th>2</th>\n",
       "      <td>65.0</td>\n",
       "      <td>8231.0</td>\n",
       "    </tr>\n",
       "    <tr>\n",
       "      <th>3</th>\n",
       "      <td>72.0</td>\n",
       "      <td>4914.0</td>\n",
       "    </tr>\n",
       "    <tr>\n",
       "      <th>4</th>\n",
       "      <td>75.0</td>\n",
       "      <td>203134.0</td>\n",
       "    </tr>\n",
       "    <tr>\n",
       "      <th>...</th>\n",
       "      <td>...</td>\n",
       "      <td>...</td>\n",
       "    </tr>\n",
       "    <tr>\n",
       "      <th>249</th>\n",
       "      <td>145.0</td>\n",
       "      <td>117235247.0</td>\n",
       "    </tr>\n",
       "    <tr>\n",
       "      <th>250</th>\n",
       "      <td>148.0</td>\n",
       "      <td>24475416.0</td>\n",
       "    </tr>\n",
       "    <tr>\n",
       "      <th>251</th>\n",
       "      <td>167.0</td>\n",
       "      <td>610991.0</td>\n",
       "    </tr>\n",
       "    <tr>\n",
       "      <th>252</th>\n",
       "      <td>170.0</td>\n",
       "      <td>7830611.0</td>\n",
       "    </tr>\n",
       "    <tr>\n",
       "      <th>253</th>\n",
       "      <td>215.0</td>\n",
       "      <td>13300000.0</td>\n",
       "    </tr>\n",
       "  </tbody>\n",
       "</table>\n",
       "<p>254 rows × 2 columns</p>\n",
       "</div>"
      ],
      "text/plain": [
       "     duration        gross\n",
       "0        34.0     333658.0\n",
       "1        53.0     274661.0\n",
       "2        65.0       8231.0\n",
       "3        72.0       4914.0\n",
       "4        75.0     203134.0\n",
       "..        ...          ...\n",
       "249     145.0  117235247.0\n",
       "250     148.0   24475416.0\n",
       "251     167.0     610991.0\n",
       "252     170.0    7830611.0\n",
       "253     215.0   13300000.0\n",
       "\n",
       "[254 rows x 2 columns]"
      ]
     },
     "metadata": {},
     "output_type": "display_data"
    },
    {
     "name": "stdout",
     "output_type": "stream",
     "text": [
      "87.0\n",
      "101.0\n"
     ]
    }
   ],
   "source": [
    " # reset the index to easily find the lower and upper quartile.\n",
    "duration_earnings_df = duration_earnings_df.sort_values(by= [\"duration\"], ascending = True).reset_index()\n",
    "duration_earnings_df = duration_earnings_df.drop(\"index\",1)\n",
    "display(duration_earnings_df)\n",
    "lq= np.percentile(duration_earnings_df[\"duration\"],25)\n",
    "print(lq)\n",
    "uq= np.percentile(duration_earnings_df[\"duration\"],75)\n",
    "print(uq)"
   ]
  },
  {
   "cell_type": "code",
   "execution_count": 16,
   "id": "8a6ecce7",
   "metadata": {},
   "outputs": [
    {
     "data": {
      "image/png": "[encoded data removed]",
      "text/plain": [
       "<Figure size 432x720 with 1 Axes>"
      ]
     },
     "metadata": {},
     "output_type": "display_data"
    }
   ],
   "source": [
    "listof_durations = make_float_array(duration_earnings_df[\"duration\"])\n",
    "#using the function defined in section 0 as an easy method for making lists\n",
    "fig,ax1=plt.subplots(figsize=(6,10))\n",
    "ax1.yaxis.grid(True,linestyle='-',)\n",
    "plt.boxplot(listof_durations,sym='+',whis=1.5)\n",
    "plt.ylabel('Movie duration')\n",
    "plt.xlabel('Movie duration Dataset')\n",
    "plt.title('A boxplot to diplay the different lengths of movies')\n",
    "plt.show()"
   ]
  },
  {
   "cell_type": "markdown",
   "id": "5740d030",
   "metadata": {},
   "source": [
    "From the above representation, we can see that the \"bulk\" of movies lie between the two marked quartiles which close off the \"box\" plot. The two extended lines are the \"whiskers\" which indicated respectively a value of lower quartile - 1.5* Inter Quartile Range and upper quartile + 1.5* Inter Quartile Range. This data set is vastly distributed, below I examine the correlation between movie duration and gross earnings to see if there is an impact."
   ]
  },
  {
   "cell_type": "code",
   "execution_count": 17,
   "id": "592a536d",
   "metadata": {},
   "outputs": [
    {
     "data": {
      "image/png": "[encoded data removed]",
      "text/plain": [
       "<Figure size 1152x432 with 1 Axes>"
      ]
     },
     "metadata": {},
     "output_type": "display_data"
    }
   ],
   "source": [
    "fig,ax1=plt.subplots(figsize=(16,6))\n",
    "#Below I add a \"grid\" this is because the plot is wide. \n",
    "#With the added grid it makes it easier to read off the values near the end of the plot.\n",
    "ax1.yaxis.grid(True,linestyle=\"-\")\n",
    "plt.scatter(duration_earnings_df[\"duration\"],duration_earnings_df[\"gross\"])\n",
    "plt.xlabel(\"Duration of the movie\")\n",
    "plt.ylabel(\"Gross Earnings in GBP\")\n",
    "plt.ticklabel_format(style='plain')\n",
    "plt.title(\"The average movie duration\",fontweight = \"bold\")\n",
    "# below is a builtin feature of numpy to plot the linear regression line\n",
    "m, b = np.polyfit(duration_earnings_df[\"duration\"], duration_earnings_df[\"gross\"],1)\n",
    "plt.plot(duration_earnings_df[\"duration\"], m*duration_earnings_df[\"duration\"]+b,\"b\")\n",
    "plt.legend([\"Line of linear regression\",\"Gross earnings for the duration\"])\n",
    "plt.show()"
   ]
  },
  {
   "cell_type": "markdown",
   "id": "d86dddd4",
   "metadata": {},
   "source": [
    "The above plot shows all the durations plotted against the gross earnings. There seems to be a correlation. However it does **not** have outliers removed and this will impact the analysis. Bellow, I have removed the outliers and looked at the bulk of the data. The below information does not infer any correlation between the duration of movies and gross earnings."
   ]
  },
  {
   "cell_type": "code",
   "execution_count": 18,
   "id": "89c2e320",
   "metadata": {
    "scrolled": true
   },
   "outputs": [
    {
     "data": {
      "image/png": "[encoded data removed]",
      "text/plain": [
       "<Figure size 864x288 with 1 Axes>"
      ]
     },
     "metadata": {},
     "output_type": "display_data"
    }
   ],
   "source": [
    "fig,ax1=plt.subplots(figsize=(12,4))\n",
    "#Below I add a \"grid\" this is because the plot is wide. \n",
    "#With the added grid it makes it easier to read off the values near the end of the plot.\n",
    "ax1.yaxis.grid(True,linestyle=\"-\")\n",
    "plt.scatter(duration_earnings_df[\"duration\"],duration_earnings_df[\"gross\"])\n",
    "plt.xlabel(\"Duration of the movie\")\n",
    "plt.ylim(-10000000,60000000)\n",
    "plt.xlim(np.percentile(duration_earnings_df[\"duration\"],25),np.percentile(duration_earnings_df[\"duration\"],75))\n",
    "plt.ylabel(\"Gross Earnings in GBP\")\n",
    "plt.ticklabel_format(style='plain')\n",
    "plt.title(\"The average movie duration with outliers ignored\",fontweight = \"bold\")\n",
    "# below is a builtin feature of numpy to plot the linear regression line\n",
    "m, b = np.polyfit(duration_earnings_df[\"duration\"], duration_earnings_df[\"gross\"],1)\n",
    "plt.plot(duration_earnings_df[\"duration\"], m*duration_earnings_df[\"duration\"]+b,\"r\")\n",
    "plt.legend([\"Line of linear regression\",\"Gross earnings for the duration\"])\n",
    "plt.show()"
   ]
  },
  {
   "cell_type": "markdown",
   "id": "f9a0022a",
   "metadata": {},
   "source": [
    "## Section 2b) A hypothesis test on If the movie duration has an impact on gross earnings then shorter movies obtain a worse return"
   ]
  },
  {
   "cell_type": "markdown",
   "id": "3fa8c6c2",
   "metadata": {},
   "source": [
    "Splitting the data into two sets, the first set X1 has movies of length < the median and the second has movies of length > median. A random sample from these two data sets will ensure that we have an unbiased fair spread of the data. The sample size will be 30 which is sufficient to utilize the Central Limit Theorem (the random distributions follow a normal distribution) and also a sufficient sample size to ensure that we can compare the two using the student T-test. A Student-t test is used on this data sample to give us a 95% confidence of a change of earnings for different movie lengths."
   ]
  },
  {
   "cell_type": "code",
   "execution_count": 19,
   "id": "c80947c2",
   "metadata": {},
   "outputs": [],
   "source": [
    "#Splitting the data frame into two sides, this is to ensure we have two\n",
    "#RANDOM samples taken to compare their means.\n",
    "first_half = duration_earnings_df[0:127]\n",
    "second_half = duration_earnings_df[127:-1]"
   ]
  },
  {
   "cell_type": "code",
   "execution_count": 20,
   "id": "d56329a1",
   "metadata": {},
   "outputs": [
    {
     "name": "stdout",
     "output_type": "stream",
     "text": [
      "The mean duration of the first half of movies = 85.15748031496064\n",
      "The mean duration of the second half of movies = 104.04761904761905\n",
      "The mean gross of the first half of movies = 5995775.039370079\n",
      "The mean gross of the second half of movies = 6564350.428571428\n"
     ]
    }
   ],
   "source": [
    "print(\"The mean duration of the first half of movies =\",first_half[\"duration\"].mean())\n",
    "print(\"The mean duration of the second half of movies =\",second_half[\"duration\"].mean())\n",
    "print(\"The mean gross of the first half of movies =\",first_half[\"gross\"].mean())\n",
    "print(\"The mean gross of the second half of movies =\",second_half[\"gross\"].mean())"
   ]
  },
  {
   "cell_type": "markdown",
   "id": "c1f03c25",
   "metadata": {},
   "source": [
    "I present the following hypothesis test : $$ Null: H_0 : \\mu_A = \\mu_B$$\n",
    "$$ Alternative: H_1 : \\mu_A > \\mu_B$$\n",
    "\n",
    "$$t = \\frac{(\\bar{X_A} - \\bar{X_B}) + (\\mu_A - \\mu_B)}{\\sqrt{ \\frac{S^2}{n_A} + \\frac{S^2}{n_B} }}$$\n",
    "\n",
    "From the calculations above and our two sample means are $\\bar{X_A}$ and $X_B$, testing on the hypothesis $\\mu_A$ and $\\mu_B$ are equal which leads to the following used formula:\n",
    "$$t = \\frac{(\\bar{X_A} - \\bar{X_B})}{\\sqrt{ \\frac{S_A^2}{n_A} + \\frac{S_B^2}{n_B} }}$$\n",
    "\n",
    "We are going to perform a one tailed 95% confidence test which gives our $\\alpha = 0.05$"
   ]
  },
  {
   "cell_type": "code",
   "execution_count": 21,
   "id": "7d58010a",
   "metadata": {},
   "outputs": [],
   "source": [
    "second_half_std = second_half[\"gross\"].std() #built in std function to find standard deviation\n",
    "first_half_std = first_half[\"gross\"].std()\n",
    "numerator= second_half[\"gross\"].mean() - first_half[\"gross\"].mean() #from formula above\n",
    "denominator = (((second_half_std**2)/len(second_half))+((first_half_std**2)/len(first_half)))**0.5 #from formula above"
   ]
  },
  {
   "cell_type": "code",
   "execution_count": 22,
   "id": "3fc86f56",
   "metadata": {
    "scrolled": false
   },
   "outputs": [
    {
     "name": "stdout",
     "output_type": "stream",
     "text": [
      "Our t value from this statistic: 0.2608\n",
      "This has a corresponding p value 0.2055\n"
     ]
    }
   ],
   "source": [
    "statistic= numerator/denominator\n",
    "print(\"Our t value from this statistic: {:.4f}\".format(statistic))\n",
    "scipy.stats.ttest_ind(second_half[\"gross\"],first_half[\"gross\"]) #scipy used to fin p value from t value\n",
    "print(\"This has a corresponding p value {:.4f}\".format(1-scipy.stats.ttest_ind(second_half[\"gross\"],first_half[\"gross\"])[-1]))\n",
    "# built in scipy function for t-tests.\n"
   ]
  },
  {
   "cell_type": "markdown",
   "id": "df84d2ff",
   "metadata": {},
   "source": [
    "A t-test on the first and last quarter of the movies are calculated below:"
   ]
  },
  {
   "cell_type": "code",
   "execution_count": 23,
   "id": "ceddde4c",
   "metadata": {},
   "outputs": [],
   "source": [
    "first_quarter = duration_earnings_df[0:64]\n",
    "last_quarter = duration_earnings_df[3*64:]"
   ]
  },
  {
   "cell_type": "code",
   "execution_count": 24,
   "id": "867c8d88",
   "metadata": {},
   "outputs": [
    {
     "name": "stdout",
     "output_type": "stream",
     "text": [
      "mean duration of the first quarter: 80.796875\n",
      "mean duration of the last quarter:  113.61290322580645\n",
      "mean gross earnings for first quarter:  8679539.828125\n",
      "mean gross earnings for the last quarter: 10172267.032258065\n"
     ]
    }
   ],
   "source": [
    "print(\"mean duration of the first quarter:\", first_quarter[\"duration\"].mean())\n",
    "print(\"mean duration of the last quarter: \",last_quarter[\"duration\"].mean())\n",
    "print(\"mean gross earnings for first quarter: \",first_quarter[\"gross\"].mean())\n",
    "print(\"mean gross earnings for the last quarter:\",last_quarter[\"gross\"].mean())\n",
    "last_quarter_std = last_quarter[\"gross\"].std()\n",
    "first_quarter_std = first_half[\"gross\"].std()\n",
    "numerator= last_quarter[\"gross\"].mean() - first_quarter[\"gross\"].mean()\n",
    "denominator = (((last_quarter_std)/len(last_quarter))+((first_quarter_std)/len(first_quarter))**0.5)"
   ]
  },
  {
   "cell_type": "code",
   "execution_count": 25,
   "id": "ecf45cf7",
   "metadata": {},
   "outputs": [
    {
     "name": "stdout",
     "output_type": "stream",
     "text": [
      "Our t value from this statistic: 4.0314\n",
      "This has a corresponding p value 0.2810\n"
     ]
    }
   ],
   "source": [
    "statistic= numerator/denominator\n",
    "print(\"Our t value from this statistic: {:.4f}\".format(statistic))\n",
    "scipy.stats.ttest_ind(last_quarter[\"gross\"],first_quarter[\"gross\"])\n",
    "print(\"This has a corresponding p value {:.4f}\".format(1-scipy.stats.ttest_ind(last_quarter[\"gross\"],first_quarter[\"gross\"])[-1]))\n",
    "# built in scipy function for t-tests.\n"
   ]
  },
  {
   "cell_type": "markdown",
   "id": "58016756",
   "metadata": {},
   "source": [
    "Clearly for both variations of splitting the data, the p value is much greater than the 95% confidence interval. Hence $ p value> \\alpha = 0.05$\n",
    "Therefore there is insufficient evidence to reject the null hypotheses. Thus we conclude that the movie duration has no effect on the gross return on movies and therefore it doesn't matter how long the movie is as shorter movies can return just as much as longer movies."
   ]
  },
  {
   "cell_type": "markdown",
   "id": "fe0b11c0",
   "metadata": {},
   "source": [
    "## Section 3) Does IMDB score correlation with gross earnings?"
   ]
  },
  {
   "cell_type": "markdown",
   "id": "bc1d9b9c",
   "metadata": {},
   "source": [
    "We want to see if lower scoring IMDB movies have a lower realised profit"
   ]
  },
  {
   "cell_type": "code",
   "execution_count": 26,
   "id": "46ac2d4c",
   "metadata": {},
   "outputs": [
    {
     "name": "stdout",
     "output_type": "stream",
     "text": [
      "Number of budget movies  254\n",
      "Number of profited budget movies  146\n",
      "Out of the 254 movies made within our budget, 146 had a profitable return. This is means 57% of movies made a return\n"
     ]
    }
   ],
   "source": [
    "print(\"Number of budget movies \",len(budget_movies_df)) # Tells us how many movies we have\n",
    "#Checking how many movies made a profit\n",
    "profit_made_df = (budget_movies_df[budget_movies_df[\"profit\"] > 0])\n",
    "print(\"Number of profited budget movies \",len(profit_made_df))\n",
    "print(\"Out of the {} movies made within our budget, {} had a profitable return. This is means {}% of movies made a return\".format(\n",
    "    len(budget_movies_df),len(profit_made_df),int(100*(len(profit_made_df)/len(budget_movies_df)))))"
   ]
  },
  {
   "cell_type": "code",
   "execution_count": 27,
   "id": "695d205e",
   "metadata": {
    "scrolled": true
   },
   "outputs": [
    {
     "data": {
      "image/png": "[encoded data removed]",
      "text/plain": [
       "<Figure size 864x288 with 1 Axes>"
      ]
     },
     "metadata": {},
     "output_type": "display_data"
    }
   ],
   "source": [
    "fig,ax2=plt.subplots(figsize=(12,4)) #More horizontal graph\n",
    "plt.scatter(profit_made_df[\"imdb_score\"],profit_made_df[\"profit\"])\n",
    "plt.xlabel(\"IMDB score\")\n",
    "plt.ylabel(\"Profit Made\")\n",
    "plt.title(\"A graph showing the IMDB score against profit made\",fontweight = \"bold\")\n",
    "#code below removes the scientific notation in the y axis\n",
    "plt.ticklabel_format(style='plain')\n",
    "#the legend code creates a \"key\" since there is only 1 thing plotted this only has one attribute\n",
    "plt.legend([\"Profit for each title\"])\n",
    "plt.show()"
   ]
  },
  {
   "cell_type": "code",
   "execution_count": 28,
   "id": "b80231c4",
   "metadata": {
    "scrolled": false
   },
   "outputs": [
    {
     "name": "stdout",
     "output_type": "stream",
     "text": [
      "With a correlation of -0.00737 we can conclude that there is no correlation between imdb_score and profit\n"
     ]
    }
   ],
   "source": [
    "corr_checker(profit_made_df,\"imdb_score\",\"profit\")\n"
   ]
  },
  {
   "cell_type": "markdown",
   "id": "0e84ddc4",
   "metadata": {},
   "source": [
    "## Section 4) Genre Analysis"
   ]
  },
  {
   "cell_type": "markdown",
   "id": "ab087d45",
   "metadata": {},
   "source": [
    "Since in the last section, It is clear that for movies in our budget, the IMDB score does not correlate with profit and hence I have not filtered the following analysis with a minimum IMDB score. Only by budget I find which genres were the most successful."
   ]
  },
  {
   "cell_type": "code",
   "execution_count": 29,
   "id": "c74c0bfa",
   "metadata": {},
   "outputs": [
    {
     "data": {
      "text/html": [
       "<div>\n",
       "<style scoped>\n",
       "    .dataframe tbody tr th:only-of-type {\n",
       "        vertical-align: middle;\n",
       "    }\n",
       "\n",
       "    .dataframe tbody tr th {\n",
       "        vertical-align: top;\n",
       "    }\n",
       "\n",
       "    .dataframe thead th {\n",
       "        text-align: right;\n",
       "    }\n",
       "</style>\n",
       "<table border=\"1\" class=\"dataframe\">\n",
       "  <thead>\n",
       "    <tr style=\"text-align: right;\">\n",
       "      <th></th>\n",
       "      <th>profit</th>\n",
       "    </tr>\n",
       "    <tr>\n",
       "      <th>genres</th>\n",
       "      <th></th>\n",
       "    </tr>\n",
       "  </thead>\n",
       "  <tbody>\n",
       "    <tr>\n",
       "      <th>Comedy|Drama|Music</th>\n",
       "      <td>6.116150e+07</td>\n",
       "    </tr>\n",
       "    <tr>\n",
       "      <th>Horror</th>\n",
       "      <td>4.512257e+07</td>\n",
       "    </tr>\n",
       "    <tr>\n",
       "      <th>Adventure|Family|Romance</th>\n",
       "      <td>3.905260e+07</td>\n",
       "    </tr>\n",
       "    <tr>\n",
       "      <th>Horror|Thriller</th>\n",
       "      <td>3.552175e+07</td>\n",
       "    </tr>\n",
       "    <tr>\n",
       "      <th>Horror|Mystery|Thriller</th>\n",
       "      <td>3.338344e+07</td>\n",
       "    </tr>\n",
       "    <tr>\n",
       "      <th>...</th>\n",
       "      <td>...</td>\n",
       "    </tr>\n",
       "    <tr>\n",
       "      <th>Action|Comedy|Fantasy|Sci-Fi</th>\n",
       "      <td>-9.870040e+05</td>\n",
       "    </tr>\n",
       "    <tr>\n",
       "      <th>Comedy|Drama|Sci-Fi</th>\n",
       "      <td>-9.936130e+05</td>\n",
       "    </tr>\n",
       "    <tr>\n",
       "      <th>Sci-Fi|Thriller</th>\n",
       "      <td>-1.043871e+06</td>\n",
       "    </tr>\n",
       "    <tr>\n",
       "      <th>Comedy|Documentary</th>\n",
       "      <td>-1.192174e+06</td>\n",
       "    </tr>\n",
       "    <tr>\n",
       "      <th>Adventure|Comedy|Horror</th>\n",
       "      <td>-1.363170e+06</td>\n",
       "    </tr>\n",
       "  </tbody>\n",
       "</table>\n",
       "<p>104 rows × 1 columns</p>\n",
       "</div>"
      ],
      "text/plain": [
       "                                    profit\n",
       "genres                                    \n",
       "Comedy|Drama|Music            6.116150e+07\n",
       "Horror                        4.512257e+07\n",
       "Adventure|Family|Romance      3.905260e+07\n",
       "Horror|Thriller               3.552175e+07\n",
       "Horror|Mystery|Thriller       3.338344e+07\n",
       "...                                    ...\n",
       "Action|Comedy|Fantasy|Sci-Fi -9.870040e+05\n",
       "Comedy|Drama|Sci-Fi          -9.936130e+05\n",
       "Sci-Fi|Thriller              -1.043871e+06\n",
       "Comedy|Documentary           -1.192174e+06\n",
       "Adventure|Comedy|Horror      -1.363170e+06\n",
       "\n",
       "[104 rows x 1 columns]"
      ]
     },
     "metadata": {},
     "output_type": "display_data"
    }
   ],
   "source": [
    "genre_movies_df = budget_movies_df[[\"genres\",\"profit\"]]\n",
    "groupedgenres_df = genre_movies_df.groupby(\"genres\").mean().sort_values(\"profit\",ascending = False)\n",
    "display(groupedgenres_df)\n"
   ]
  },
  {
   "cell_type": "markdown",
   "id": "533568f1",
   "metadata": {},
   "source": [
    "From the above representation of the data which was obtained by grouping, all of the genres together **104 unique genres** and then finding their mean profit using the built-in function.\n",
    "The mean for this instance for each individual profit value $p_i$ is == $$ mean = \\sum_i^n \\frac{p_i}{n}$$\n",
    "\n",
    "The \"head\" (top 5 performing genres) and \"tail (worst 5 performing genres) are displayed. This indicates that the most profitable movie style to choose is that of a comedy, drama, music storyline. With the worst average performance from a movie that is based on an adventure, comedy, horror.\n",
    "\n",
    "Next, I will look at the movie genres without grouping them to find the actual worst and best performing movies and use a statistical hypothesis test to determine if they do perform better or worse with a significance value."
   ]
  },
  {
   "cell_type": "code",
   "execution_count": 30,
   "id": "567486ac",
   "metadata": {},
   "outputs": [],
   "source": [
    "genre_movies_df=genre_movies_df.sort_values(by= [\"profit\"], ascending = False).reset_index()\n",
    "genre_movies_df = genre_movies_df.drop(\"index\",1)"
   ]
  },
  {
   "cell_type": "code",
   "execution_count": 31,
   "id": "17b96ba5",
   "metadata": {
    "scrolled": true
   },
   "outputs": [
    {
     "data": {
      "text/html": [
       "<div>\n",
       "<style scoped>\n",
       "    .dataframe tbody tr th:only-of-type {\n",
       "        vertical-align: middle;\n",
       "    }\n",
       "\n",
       "    .dataframe tbody tr th {\n",
       "        vertical-align: top;\n",
       "    }\n",
       "\n",
       "    .dataframe thead th {\n",
       "        text-align: right;\n",
       "    }\n",
       "</style>\n",
       "<table border=\"1\" class=\"dataframe\">\n",
       "  <thead>\n",
       "    <tr style=\"text-align: right;\">\n",
       "      <th></th>\n",
       "      <th>genres</th>\n",
       "      <th>profit</th>\n",
       "    </tr>\n",
       "  </thead>\n",
       "  <tbody>\n",
       "    <tr>\n",
       "      <th>0</th>\n",
       "      <td>Horror</td>\n",
       "      <td>140470114.0</td>\n",
       "    </tr>\n",
       "    <tr>\n",
       "      <th>1</th>\n",
       "      <td>Drama|Sport</td>\n",
       "      <td>116275247.0</td>\n",
       "    </tr>\n",
       "    <tr>\n",
       "      <th>2</th>\n",
       "      <td>Comedy|Drama|Music</td>\n",
       "      <td>114223000.0</td>\n",
       "    </tr>\n",
       "    <tr>\n",
       "      <th>3</th>\n",
       "      <td>Horror</td>\n",
       "      <td>107902283.0</td>\n",
       "    </tr>\n",
       "    <tr>\n",
       "      <th>4</th>\n",
       "      <td>Horror|Mystery|Thriller</td>\n",
       "      <td>53953403.0</td>\n",
       "    </tr>\n",
       "    <tr>\n",
       "      <th>...</th>\n",
       "      <td>...</td>\n",
       "      <td>...</td>\n",
       "    </tr>\n",
       "    <tr>\n",
       "      <th>249</th>\n",
       "      <td>Comedy|Documentary</td>\n",
       "      <td>-1192174.0</td>\n",
       "    </tr>\n",
       "    <tr>\n",
       "      <th>250</th>\n",
       "      <td>Comedy|Drama</td>\n",
       "      <td>-1196170.0</td>\n",
       "    </tr>\n",
       "    <tr>\n",
       "      <th>251</th>\n",
       "      <td>Comedy|Drama</td>\n",
       "      <td>-1288722.0</td>\n",
       "    </tr>\n",
       "    <tr>\n",
       "      <th>252</th>\n",
       "      <td>Adventure|Comedy|Horror</td>\n",
       "      <td>-1363170.0</td>\n",
       "    </tr>\n",
       "    <tr>\n",
       "      <th>253</th>\n",
       "      <td>Drama</td>\n",
       "      <td>-1381565.0</td>\n",
       "    </tr>\n",
       "  </tbody>\n",
       "</table>\n",
       "<p>254 rows × 2 columns</p>\n",
       "</div>"
      ],
      "text/plain": [
       "                      genres       profit\n",
       "0                     Horror  140470114.0\n",
       "1                Drama|Sport  116275247.0\n",
       "2         Comedy|Drama|Music  114223000.0\n",
       "3                     Horror  107902283.0\n",
       "4    Horror|Mystery|Thriller   53953403.0\n",
       "..                       ...          ...\n",
       "249       Comedy|Documentary   -1192174.0\n",
       "250             Comedy|Drama   -1196170.0\n",
       "251             Comedy|Drama   -1288722.0\n",
       "252  Adventure|Comedy|Horror   -1363170.0\n",
       "253                    Drama   -1381565.0\n",
       "\n",
       "[254 rows x 2 columns]"
      ]
     },
     "metadata": {},
     "output_type": "display_data"
    }
   ],
   "source": [
    "display(genre_movies_df)"
   ]
  },
  {
   "cell_type": "markdown",
   "id": "8bec39d9",
   "metadata": {},
   "source": [
    "## Section 2b) A hypothesis test on If the movie has a horror genre then it will obtain a better profit than a drama genre"
   ]
  },
  {
   "cell_type": "code",
   "execution_count": 32,
   "id": "56ddce40",
   "metadata": {},
   "outputs": [
    {
     "name": "stdout",
     "output_type": "stream",
     "text": [
      "True\n"
     ]
    }
   ],
   "source": [
    "boolean_findings= genre_movies_df[\"genres\"].str.contains(\"Drama\")\n",
    "print(boolean_findings[2])\n",
    "\n",
    "horror_sum = 0\n",
    "horror_count= 0\n",
    "horror_data= []\n",
    "for i in range(len(genre_movies_df)):\n",
    "    if genre_movies_df[\"genres\"].str.contains(\"Horror\")[i] == True:\n",
    "        horror_count +=1\n",
    "        horror_sum += genre_movies_df[\"profit\"][i]\n",
    "        horror_data.append(genre_movies_df[\"profit\"][i])\n",
    "\n",
    "drama_sum = 0\n",
    "drama_count= 0\n",
    "drama_data = []\n",
    "for i in range(len(genre_movies_df)):\n",
    "    if genre_movies_df[\"genres\"].str.contains(\"Drama\")[i] == True:\n",
    "        drama_count +=1\n",
    "        drama_sum += genre_movies_df[\"profit\"][i]\n",
    "        drama_data.append(genre_movies_df[\"profit\"][i])"
   ]
  },
  {
   "cell_type": "code",
   "execution_count": 33,
   "id": "83c3e2cb",
   "metadata": {
    "scrolled": true
   },
   "outputs": [
    {
     "name": "stdout",
     "output_type": "stream",
     "text": [
      "The mean profit of horror movies is GBP 18784692\n",
      "The mean profit of drama movies is GBP 4016951\n",
      "The standard deviation of horror movies is 29860693\n",
      "The standard deviation of drama movies is 14410455\n"
     ]
    }
   ],
   "source": [
    "mean_horror = horror_sum/horror_count\n",
    "mean_drama = drama_sum/drama_count\n",
    "stdhorror = statistics.stdev(horror_data)\n",
    "stddrama = statistics.stdev(drama_data)\n",
    "print(\"The mean profit of horror movies is GBP\" , int(mean_horror))\n",
    "print(\"The mean profit of drama movies is GBP\" , int(mean_drama))\n",
    "print(\"The standard deviation of horror movies is\" , int(stdhorror))\n",
    "print(\"The standard deviation of drama movies is\" , int(stddrama))\n"
   ]
  },
  {
   "cell_type": "markdown",
   "id": "8014a5b4",
   "metadata": {},
   "source": [
    "I present the following hypothesis test : where $\\mu_A$ = mean profit for horror and $\\mu_B$ = mean profit for drama $$ Null: H_0 : \\mu_A = \\mu_B$$\n",
    "$$ Alternative: H_1 : \\mu_A > \\mu_B$$\n",
    "\n",
    "$$t = \\frac{(\\bar{X_A} - \\bar{X_B}) + (\\mu_A - \\mu_B)}{\\sqrt{ \\frac{S^2}{n_A} + \\frac{S^2}{n_B} }}$$\n",
    "\n",
    "From the calculations above and our two sample means are $\\bar{X_A}$ and $X_B$, testing on the hypothesis $\\mu_A$ and $\\mu_B$ are equal which leads to the following used formula:\n",
    "$$t = \\frac{(\\bar{X_A} - \\bar{X_B})}{\\sqrt{ \\frac{S_A^2}{n_A} + \\frac{S_B^2}{n_B} }}$$\n",
    "\n",
    "We are going to perform a one tailed 95% confidence test which gives our $\\alpha = 0.05$"
   ]
  },
  {
   "cell_type": "code",
   "execution_count": 34,
   "id": "429ad91e",
   "metadata": {},
   "outputs": [],
   "source": [
    "numerator = mean_horror - mean_drama\n",
    "denominator =((stdhorror/horror_count)+(stddrama/drama_count))"
   ]
  },
  {
   "cell_type": "code",
   "execution_count": 35,
   "id": "dd63b1ee",
   "metadata": {},
   "outputs": [
    {
     "name": "stdout",
     "output_type": "stream",
     "text": [
      "Our t value from this statistic: 17.4148\n"
     ]
    }
   ],
   "source": [
    "statistic = numerator/denominator\n",
    "print(\"Our t value from this statistic: {:.4f}\".format(statistic))"
   ]
  },
  {
   "cell_type": "code",
   "execution_count": 36,
   "id": "06547377",
   "metadata": {},
   "outputs": [
    {
     "data": {
      "text/plain": [
       "9.320874761394248e-41"
      ]
     },
     "execution_count": 36,
     "metadata": {},
     "output_type": "execute_result"
    }
   ],
   "source": [
    "scipy.stats.t.sf(abs(statistic), horror_count + drama_count -2) #second input here is the degrees of freedome = ((n_a +n_b)-2)"
   ]
  },
  {
   "cell_type": "markdown",
   "id": "9fddaa67",
   "metadata": {},
   "source": [
    "Clearly our p value is much less than the 95% confidence interval. Hence $ p value> \\alpha = 0.05$\n",
    "Thus there is sufficient evidence to reject our null hypothesis $H_0$. From this, we conclude that the movie should definitely not have a storyline that is a drama as this extremely small p-value concludes even a 99% confidence interval."
   ]
  },
  {
   "cell_type": "markdown",
   "id": "a7a04770",
   "metadata": {},
   "source": [
    "### Average gross earnings from different genres"
   ]
  },
  {
   "cell_type": "code",
   "execution_count": 43,
   "id": "8c7b677a",
   "metadata": {},
   "outputs": [],
   "source": [
    "#Look at the average gross earnings of different genres\n",
    "data = pd.read_csv('movie_metadata.csv') #retreive the raw data \n",
    "data.drop_duplicates(inplace=True) #cleaning\n",
    "data.dropna(axis=0, subset=['gross', 'budget'], inplace=True) #cleaning\n",
    "data = data[data[\"budget\"]<1500000]\n",
    "movie_genres = data.genres.map(lambda x : x.split('|')) #split genres by\"|\""
   ]
  },
  {
   "cell_type": "code",
   "execution_count": 38,
   "id": "8c610f61",
   "metadata": {},
   "outputs": [],
   "source": [
    "#create a list to store unique genres\n",
    "unique=list()\n",
    "for genres in movie_genres:\n",
    "    for genre in genres:\n",
    "        if genre not in unique:\n",
    "            unique.append(genre)"
   ]
  },
  {
   "cell_type": "code",
   "execution_count": 39,
   "id": "c4ba593e",
   "metadata": {},
   "outputs": [],
   "source": [
    "#create another DataFrame to represent One-hot endocing of genres for every movie\n",
    "unique = np.array(unique)\n",
    "genresDf = pd.DataFrame(columns=unique, index=range(len(movie_genres)))\n",
    "index=0\n",
    "for genres in movie_genres:\n",
    "    row_values = np.zeros(len(unique)) \n",
    "    for genre in genres:\n",
    "        row_values=np.add(row_values,(genre==unique).astype(int))\n",
    "    genresDf.loc[index] = row_values\n",
    "    index +=1"
   ]
  },
  {
   "cell_type": "code",
   "execution_count": 40,
   "id": "3a9c4191",
   "metadata": {},
   "outputs": [],
   "source": [
    "#Add gross and budget to dataframe\n",
    "genresDf[\"gross\"] = data.gross.values\n",
    "genresDf[\"budget\"] = data.budget.values\n",
    "#Average gross for different genres\n",
    "avg_gross = []\n",
    "avg_budget= []\n",
    "for  i in unique:\n",
    "    avg_gross.append(genresDf[genresDf[i] == 1]['gross'].mean())\n",
    "    avg_budget.append(genresDf[genresDf[i] == 1]['budget'].mean())"
   ]
  },
  {
   "cell_type": "code",
   "execution_count": 41,
   "id": "cdb9110d",
   "metadata": {},
   "outputs": [
    {
     "data": {
      "image/png": "[encoded data removed]",
      "text/plain": [
       "<Figure size 1080x432 with 1 Axes>"
      ]
     },
     "metadata": {},
     "output_type": "display_data"
    }
   ],
   "source": [
    "#plot graph\n",
    "X_axis = np.arange(len(unique))\n",
    "plt.figure(figsize=(15,6))\n",
    "plt.bar(X_axis-0.2, avg_gross, width=0.4, label=\"gross\")\n",
    "plt.bar(X_axis+0.2, avg_budget, width=0.4, label=\"budget\")\n",
    "plt.xticks(X_axis, unique, rotation='vertical')\n",
    "plt.ylabel(\"gross/budget monetary value\")\n",
    "plt.legend()\n",
    "plt.show()"
   ]
  },
  {
   "cell_type": "markdown",
   "id": "292ebbb6",
   "metadata": {},
   "source": [
    "## Final Conclusions\n"
   ]
  },
  {
   "cell_type": "markdown",
   "id": "957979ce",
   "metadata": {},
   "source": [
    "In section 1 the data was cleaned and I have removed all the unnecessary columns that would spark no interest in the data analysis. I have defined functions that I have used through the report. The only movies that had a budget within our range (<1.5million) were analyzed as others are not suitable. A profit column was added to the data frame to analyze correlations between profit and other variables.\n",
    "\n",
    "In section 1 I asked whether a movie's earnings were indicative of the release date, I visualized my findings. The plot used my correlation checker to plot the line of regression. 21st-century movies were looked at and there was no indication of a correlation between earnings and title year. This implies that we are not on a downtrend of movies performing worse over time and hence using the funds to create a movie is still a great idea!\n",
    "\n",
    "In section 2 analyzing the duration of movies against their respective gross earnings concluded that there is still no correlation. If the budget can be used to create a short movie there is still the great potential for a highly profitable movie as my correlation checker resulted in no correlation. A final graph was generated removing the outliers found in the box and whisker diagram. This still resulted in no correlation. A statistical check for this was done to primarily concluding that for a high level of sensitivity (95%) we statistically concluded that since the probability value was way out of our range (p-vale ~ 20% , sensitivity = 5%) that movies with a short duration do not result in lower earnings.\n",
    "\n",
    "Section 3 details the correlation between an IMDB score and the profit realized from those respective movie titles. It showed no/very weak correlation and thus it does not matter what reviewers say about the movie! It has no impact on the profit.\n",
    "\n",
    "Section 4 - Genre Analysis. This section was by far the most intrinsically valuable section. Analysis of the movie genre data frame showed that the top-earning movie titles were of the Horror category. The absolute lowest was Drama. This leads me to perform a statistical hypothesis test on the two data sets. After this, the genres were split and a graphical visualisation of which genres had high gross returns."
   ]
  },
  {
   "cell_type": "code",
   "execution_count": 42,
   "id": "8892aaa8",
   "metadata": {},
   "outputs": [
    {
     "name": "stderr",
     "output_type": "stream",
     "text": [
      "C:\\Users\\the-e\\anaconda3\\lib\\site-packages\\nbformat\\current.py:15: UserWarning: nbformat.current is deprecated.\n",
      "\n",
      "- use nbformat for read/write/validate public API\n",
      "- use nbformat.vX directly to composing notebooks of a particular version\n",
      "\n",
      "  warnings.warn(\"\"\"nbformat.current is deprecated.\n"
     ]
    },
    {
     "name": "stdout",
     "output_type": "stream",
     "text": [
      "Submission length is 1071\n"
     ]
    }
   ],
   "source": [
    "##This code will word count all of the markdown cells in the notebook saved at filepath\n",
    "##Running it before providing any answers shows that the questions have a word count of 437\n",
    "\n",
    "import io\n",
    "from nbformat import current\n",
    "\n",
    "filepath=\"BudgetProductions.ipynb\"\n",
    "question_count=437\n",
    "\n",
    "with io.open(filepath, 'r', encoding='utf-8') as f:\n",
    "    nb = current.read(f, 'json')\n",
    "\n",
    "word_count = 0\n",
    "for cell in nb.worksheets[0].cells:\n",
    "    if cell.cell_type == \"markdown\":\n",
    "        word_count += len(cell['source'].replace('#', '').lstrip().split(' '))\n",
    "print(\"Submission length is {}\".format(word_count-question_count))"
   ]
  },
  {
   "cell_type": "code",
   "execution_count": null,
   "id": "2628e1db",
   "metadata": {},
   "outputs": [],
   "source": []
  }
 ],
 "metadata": {
  "kernelspec": {
   "display_name": "Python 3",
   "language": "python",
   "name": "python3"
  },
  "language_info": {
   "codemirror_mode": {
    "name": "ipython",
    "version": 3
   },
   "file_extension": ".py",
   "mimetype": "text/x-python",
   "name": "python",
   "nbconvert_exporter": "python",
   "pygments_lexer": "ipython3",
   "version": "3.8.8"
  }
 },
 "nbformat": 4,
 "nbformat_minor": 5
}
